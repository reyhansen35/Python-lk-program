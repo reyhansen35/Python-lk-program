{
 "cells": [
  {
   "cell_type": "code",
   "execution_count": 4,
   "id": "319bffe8",
   "metadata": {},
   "outputs": [],
   "source": [
    "sozluk1 = {\"sıfır\":0,\"bir\":1,\"iki\":2,\"üç\":3,\"reyhan\":\"onur\"}"
   ]
  },
  {
   "cell_type": "code",
   "execution_count": 2,
   "id": "2a921eca",
   "metadata": {},
   "outputs": [
    {
     "data": {
      "text/plain": [
       "{'sıfır': 0, 'bir': 1, 'iki': 2, 'üç': 3}"
      ]
     },
     "execution_count": 2,
     "metadata": {},
     "output_type": "execute_result"
    }
   ],
   "source": [
    "sozluk1"
   ]
  },
  {
   "cell_type": "code",
   "execution_count": 3,
   "id": "cdd69997",
   "metadata": {},
   "outputs": [
    {
     "data": {
      "text/plain": [
       "1"
      ]
     },
     "execution_count": 3,
     "metadata": {},
     "output_type": "execute_result"
    }
   ],
   "source": [
    "sozluk1[\"bir\"]"
   ]
  },
  {
   "cell_type": "code",
   "execution_count": 5,
   "id": "d8eff472",
   "metadata": {},
   "outputs": [
    {
     "data": {
      "text/plain": [
       "'onur'"
      ]
     },
     "execution_count": 5,
     "metadata": {},
     "output_type": "execute_result"
    }
   ],
   "source": [
    "sozluk1[\"reyhan\"]"
   ]
  },
  {
   "cell_type": "code",
   "execution_count": null,
   "id": "8bbf1224",
   "metadata": {},
   "outputs": [],
   "source": []
  }
 ],
 "metadata": {
  "kernelspec": {
   "display_name": "Python 3 (ipykernel)",
   "language": "python",
   "name": "python3"
  },
  "language_info": {
   "codemirror_mode": {
    "name": "ipython",
    "version": 3
   },
   "file_extension": ".py",
   "mimetype": "text/x-python",
   "name": "python",
   "nbconvert_exporter": "python",
   "pygments_lexer": "ipython3",
   "version": "3.9.13"
  }
 },
 "nbformat": 4,
 "nbformat_minor": 5
}
