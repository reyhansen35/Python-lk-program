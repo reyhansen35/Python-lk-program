{
 "cells": [
  {
   "cell_type": "code",
   "execution_count": 5,
   "id": "5cbbe6d4",
   "metadata": {},
   "outputs": [
    {
     "name": "stdout",
     "output_type": "stream",
     "text": [
      "Merhaba\n",
      "Nasılsın\n",
      "iyi misin\n",
      "ne haber\n",
      "havalar nasıl\n",
      "görüşelim\n"
     ]
    }
   ],
   "source": [
    "print(\"Merhaba\\nNasılsın\\niyi misin\\nne haber\\nhavalar nasıl\\ngörüşelim\")"
   ]
  },
  {
   "cell_type": "code",
   "execution_count": 7,
   "id": "3c974b15",
   "metadata": {},
   "outputs": [
    {
     "name": "stdout",
     "output_type": "stream",
     "text": [
      "pınarhisar mtal\t Atatürk Ortaokulu\n"
     ]
    }
   ],
   "source": [
    "print(\"pınarhisar mtal\\t Atatürk Ortaokulu\")"
   ]
  },
  {
   "cell_type": "code",
   "execution_count": 8,
   "id": "d9fafb84",
   "metadata": {},
   "outputs": [
    {
     "name": "stdout",
     "output_type": "stream",
     "text": [
      "sınıf\t öğrenci\t okul\n"
     ]
    }
   ],
   "source": [
    "print(\"sınıf\\t öğrenci\\t okul\")"
   ]
  },
  {
   "cell_type": "code",
   "execution_count": 13,
   "id": "8cc02595",
   "metadata": {},
   "outputs": [
    {
     "name": "stdout",
     "output_type": "stream",
     "text": [
      "<class 'int'>\n"
     ]
    }
   ],
   "source": [
    "a=89\n",
    "print(type(a))"
   ]
  },
  {
   "cell_type": "code",
   "execution_count": 14,
   "id": "87e3a5cd",
   "metadata": {},
   "outputs": [
    {
     "name": "stdout",
     "output_type": "stream",
     "text": [
      "reyhan&Onur\n"
     ]
    }
   ],
   "source": [
    "print(\"reyhan\",\"Onur\",sep=\"&\")"
   ]
  },
  {
   "cell_type": "code",
   "execution_count": 15,
   "id": "5d2e226e",
   "metadata": {},
   "outputs": [
    {
     "name": "stdout",
     "output_type": "stream",
     "text": [
      "elma-armut-üzüm-muz\n"
     ]
    }
   ],
   "source": [
    "print(\"elma\",\"armut\",\"üzüm\",\"muz\",sep=\"-\")"
   ]
  },
  {
   "cell_type": "code",
   "execution_count": 17,
   "id": "a0032360",
   "metadata": {},
   "outputs": [
    {
     "name": "stdout",
     "output_type": "stream",
     "text": [
      "T\n",
      "B\n",
      "M\n",
      "M\n"
     ]
    }
   ],
   "source": [
    "print(*\"TBMM\",sep=\"\\n\")"
   ]
  },
  {
   "cell_type": "code",
   "execution_count": 19,
   "id": "42f2e9fa",
   "metadata": {},
   "outputs": [
    {
     "name": "stdout",
     "output_type": "stream",
     "text": [
      "r\n",
      "e\n",
      "y\n",
      "h\n",
      "a\n",
      "n\n",
      "o\n",
      "n\n",
      "u\n",
      "r\n"
     ]
    }
   ],
   "source": [
    "print(*\"reyhanonur\",sep=\"\\n\")"
   ]
  },
  {
   "cell_type": "code",
   "execution_count": null,
   "id": "cd76370c",
   "metadata": {},
   "outputs": [],
   "source": []
  }
 ],
 "metadata": {
  "kernelspec": {
   "display_name": "Python 3 (ipykernel)",
   "language": "python",
   "name": "python3"
  },
  "language_info": {
   "codemirror_mode": {
    "name": "ipython",
    "version": 3
   },
   "file_extension": ".py",
   "mimetype": "text/x-python",
   "name": "python",
   "nbconvert_exporter": "python",
   "pygments_lexer": "ipython3",
   "version": "3.9.13"
  }
 },
 "nbformat": 4,
 "nbformat_minor": 5
}
