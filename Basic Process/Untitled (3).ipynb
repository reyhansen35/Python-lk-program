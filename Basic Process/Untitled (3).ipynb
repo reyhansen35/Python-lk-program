{
 "cells": [
  {
   "cell_type": "markdown",
   "id": "30977a25",
   "metadata": {},
   "source": [
    "# Listeler"
   ]
  },
  {
   "cell_type": "markdown",
   "id": "34add610",
   "metadata": {},
   "source": [
    "Bu bölümde yapacağımız işlemler şunlardır:"
   ]
  },
  {
   "cell_type": "code",
   "execution_count": 2,
   "id": "97e8c848",
   "metadata": {},
   "outputs": [],
   "source": [
    "## 1.Liste Oluşturma"
   ]
  },
  {
   "cell_type": "code",
   "execution_count": 3,
   "id": "395db21f",
   "metadata": {},
   "outputs": [],
   "source": [
    "## 2.İndeksleme ve Parçalama"
   ]
  },
  {
   "cell_type": "code",
   "execution_count": 4,
   "id": "354a073b",
   "metadata": {},
   "outputs": [],
   "source": [
    "## 3. Temel liste Metotları ve İşlemleri"
   ]
  },
  {
   "cell_type": "code",
   "execution_count": 5,
   "id": "636445cf",
   "metadata": {},
   "outputs": [],
   "source": [
    "## 4.İç İçe Listeler"
   ]
  },
  {
   "cell_type": "code",
   "execution_count": 6,
   "id": "e2e1ebad",
   "metadata": {},
   "outputs": [],
   "source": [
    "##  1.Lİste Oluşturma"
   ]
  },
  {
   "cell_type": "code",
   "execution_count": 7,
   "id": "1afd4bc9",
   "metadata": {},
   "outputs": [],
   "source": [
    "Meyveler =[\"Elma\", \"Armut\", \"Çilek\", \"Muz\", 6, 7, \"8\"]"
   ]
  },
  {
   "cell_type": "code",
   "execution_count": 10,
   "id": "df623a53",
   "metadata": {},
   "outputs": [],
   "source": [
    "sayilar = [1, 3, 5, 7, 9, 11, 13, 15, 17]"
   ]
  },
  {
   "cell_type": "code",
   "execution_count": 9,
   "id": "f86bc59f",
   "metadata": {},
   "outputs": [],
   "source": [
    "bos = []"
   ]
  },
  {
   "cell_type": "code",
   "execution_count": 11,
   "id": "0ee3c731",
   "metadata": {},
   "outputs": [],
   "source": [
    "# Len komutu bize listedeki eleman sayısını veren komuttur"
   ]
  },
  {
   "cell_type": "code",
   "execution_count": 14,
   "id": "d15447c9",
   "metadata": {},
   "outputs": [
    {
     "data": {
      "text/plain": [
       "9"
      ]
     },
     "execution_count": 14,
     "metadata": {},
     "output_type": "execute_result"
    }
   ],
   "source": [
    "len(sayilar) "
   ]
  },
  {
   "cell_type": "code",
   "execution_count": 15,
   "id": "30b41a3d",
   "metadata": {},
   "outputs": [
    {
     "data": {
      "text/plain": [
       "11"
      ]
     },
     "execution_count": 15,
     "metadata": {},
     "output_type": "execute_result"
    }
   ],
   "source": [
    "sayilar[5]"
   ]
  },
  {
   "cell_type": "code",
   "execution_count": 17,
   "id": "f89599b7",
   "metadata": {},
   "outputs": [
    {
     "data": {
      "text/plain": [
       "'Muz'"
      ]
     },
     "execution_count": 17,
     "metadata": {},
     "output_type": "execute_result"
    }
   ],
   "source": [
    "Meyveler[3]"
   ]
  },
  {
   "cell_type": "code",
   "execution_count": 18,
   "id": "172379d5",
   "metadata": {},
   "outputs": [
    {
     "data": {
      "text/plain": [
       "8"
      ]
     },
     "execution_count": 18,
     "metadata": {},
     "output_type": "execute_result"
    }
   ],
   "source": [
    "Meyveler[-1]"
   ]
  },
  {
   "cell_type": "code",
   "execution_count": 19,
   "id": "f2791f89",
   "metadata": {},
   "outputs": [
    {
     "data": {
      "text/plain": [
       "7"
      ]
     },
     "execution_count": 19,
     "metadata": {},
     "output_type": "execute_result"
    }
   ],
   "source": [
    "Meyveler[-2]"
   ]
  },
  {
   "cell_type": "code",
   "execution_count": 20,
   "id": "f6a41764",
   "metadata": {},
   "outputs": [
    {
     "data": {
      "text/plain": [
       "['Elma', 'Armut', 'Çilek', 'Muz']"
      ]
     },
     "execution_count": 20,
     "metadata": {},
     "output_type": "execute_result"
    }
   ],
   "source": [
    "Meyveler[:4]"
   ]
  },
  {
   "cell_type": "code",
   "execution_count": 24,
   "id": "f185e7b2",
   "metadata": {},
   "outputs": [
    {
     "data": {
      "text/plain": [
       "['Elma', 'Armut', 'Çilek', 'Muz', 6]"
      ]
     },
     "execution_count": 24,
     "metadata": {},
     "output_type": "execute_result"
    }
   ],
   "source": [
    "Meyveler[:-2]"
   ]
  },
  {
   "cell_type": "code",
   "execution_count": 25,
   "id": "87cf2d64",
   "metadata": {},
   "outputs": [
    {
     "data": {
      "text/plain": [
       "['Elma', 'Armut', 'Çilek', 'Muz', 6, 7, 8, 'kiraz']"
      ]
     },
     "execution_count": 25,
     "metadata": {},
     "output_type": "execute_result"
    }
   ],
   "source": [
    "Meyveler + [\"kiraz\"]"
   ]
  },
  {
   "cell_type": "code",
   "execution_count": null,
   "id": "eb39db3b",
   "metadata": {},
   "outputs": [],
   "source": [
    "Meyveler "
   ]
  }
 ],
 "metadata": {
  "kernelspec": {
   "display_name": "Python 3 (ipykernel)",
   "language": "python",
   "name": "python3"
  },
  "language_info": {
   "codemirror_mode": {
    "name": "ipython",
    "version": 3
   },
   "file_extension": ".py",
   "mimetype": "text/x-python",
   "name": "python",
   "nbconvert_exporter": "python",
   "pygments_lexer": "ipython3",
   "version": "3.9.13"
  }
 },
 "nbformat": 4,
 "nbformat_minor": 5
}
