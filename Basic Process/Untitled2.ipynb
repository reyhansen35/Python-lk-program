{
 "cells": [
  {
   "cell_type": "code",
   "execution_count": 1,
   "id": "a05fc4cf",
   "metadata": {},
   "outputs": [
    {
     "name": "stdout",
     "output_type": "stream",
     "text": [
      "Lütfen bir sayı giriniz3\n"
     ]
    },
    {
     "data": {
      "text/plain": [
       "'3'"
      ]
     },
     "execution_count": 1,
     "metadata": {},
     "output_type": "execute_result"
    }
   ],
   "source": [
    "input(\"Lütfen bir sayı giriniz\")"
   ]
  },
  {
   "cell_type": "code",
   "execution_count": 2,
   "id": "0c9c42a2",
   "metadata": {},
   "outputs": [],
   "source": [
    "a = 25"
   ]
  },
  {
   "cell_type": "code",
   "execution_count": 3,
   "id": "5dc9c7bd",
   "metadata": {},
   "outputs": [
    {
     "data": {
      "text/plain": [
       "25"
      ]
     },
     "execution_count": 3,
     "metadata": {},
     "output_type": "execute_result"
    }
   ],
   "source": [
    "a"
   ]
  },
  {
   "cell_type": "code",
   "execution_count": null,
   "id": "d9d6093c",
   "metadata": {},
   "outputs": [],
   "source": [
    "a=input(\"Lütfen bir sayı giriniz\")\n",
    "print(\"girdiğiniz değer:\",a)"
   ]
  },
  {
   "cell_type": "code",
   "execution_count": null,
   "id": "81fd0235",
   "metadata": {},
   "outputs": [],
   "source": [
    "s1=int(input(\"Birinci sınav notunu giriniz:\"))\n",
    "s2=int(input(\"ikinci sınav notunu giriniz:\"))\n",
    "s3=int(input(\"üçüncü sınav notunu giriniz:\"))\n",
    "ort=(s1+s2+s3)/3\n",
    "print(\"ortalamanız=\",ort)"
   ]
  },
  {
   "cell_type": "code",
   "execution_count": null,
   "id": "bcc75dbb",
   "metadata": {},
   "outputs": [],
   "source": []
  },
  {
   "cell_type": "code",
   "execution_count": null,
   "id": "9d04cc14",
   "metadata": {},
   "outputs": [],
   "source": []
  },
  {
   "cell_type": "code",
   "execution_count": null,
   "id": "b7bc43da",
   "metadata": {},
   "outputs": [],
   "source": []
  },
  {
   "cell_type": "code",
   "execution_count": null,
   "id": "c2f746b0",
   "metadata": {},
   "outputs": [],
   "source": []
  },
  {
   "cell_type": "code",
   "execution_count": null,
   "id": "44250704",
   "metadata": {},
   "outputs": [],
   "source": []
  }
 ],
 "metadata": {
  "kernelspec": {
   "display_name": "Python 3 (ipykernel)",
   "language": "python",
   "name": "python3"
  },
  "language_info": {
   "codemirror_mode": {
    "name": "ipython",
    "version": 3
   },
   "file_extension": ".py",
   "mimetype": "text/x-python",
   "name": "python",
   "nbconvert_exporter": "python",
   "pygments_lexer": "ipython3",
   "version": "3.9.13"
  }
 },
 "nbformat": 4,
 "nbformat_minor": 5
}
